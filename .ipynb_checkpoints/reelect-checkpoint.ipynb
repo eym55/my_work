{
 "cells": [
  {
   "cell_type": "code",
   "execution_count": 25,
   "metadata": {},
   "outputs": [],
   "source": [
    "import pandas as pd\n",
    "import matplotlib.pyplot as plt\n",
    "import numpy as np\n",
    "import scipy.stats as stats\n",
    "import math\n",
    "from poibin import PoiBin\n",
    "from datetime import datetime"
   ]
  },
  {
   "cell_type": "code",
   "execution_count": 68,
   "metadata": {},
   "outputs": [],
   "source": [
    "names = ['Michael Guest',\n",
    " 'Ralph Norman',\n",
    " 'Antonio Delgado',\n",
    " 'Steven Horsford',\n",
    " 'Conor Lamb',\n",
    " 'Andy Levin',\n",
    " 'Andy Kim',\n",
    " 'Bryan Steil',\n",
    " 'Elaine Luria',\n",
    " 'Madeleine Dean',\n",
    " 'Abigail Spanberger',\n",
    " 'David Trone',\n",
    " 'John Joyce',\n",
    " 'Chip Roy',\n",
    " 'Veronica Escobar',\n",
    " 'Xochitl Torres Small',\n",
    " 'Joseph Morelle',\n",
    " 'Greg Pence',\n",
    " 'Ed Case',\n",
    " 'William Timmons',\n",
    " 'Jahana Hayes',\n",
    " 'Angie Craig',\n",
    " 'Jim Hagedorn',\n",
    " 'Susan Wild',\n",
    " 'Dusty Johnson',\n",
    " 'Lizzie Fletcher',\n",
    " 'Chris Pappas',\n",
    " 'Debbie Mucarsel-Powell',\n",
    " 'Rashida Tlaib',\n",
    " 'Ron Wright',\n",
    " 'Sharice Davids',\n",
    " 'Colin Allred',\n",
    " 'Sylvia Garcia',\n",
    " 'Alexandria Ocasio-Cortez',\n",
    " 'Abby Finkenauer',\n",
    " 'Haley Stevens',\n",
    " 'Dan Crenshaw',\n",
    " 'Ann Kirkpatrick',\n",
    " 'Ron Estes',\n",
    " 'Michael Waltz',\n",
    " 'Lori Trahan',\n",
    " 'Ben McAdams',\n",
    " 'Kevin Hern',\n",
    " 'Jason Crow',\n",
    " 'Guy Reschenthaler',\n",
    " 'Tim Burchett',\n",
    " 'Van Taylor',\n",
    " 'Pete Stauber',\n",
    " 'Lauren Underwood',\n",
    " 'Sean Casten',\n",
    " 'Debra Haaland',\n",
    " 'Mark Green',\n",
    " 'Jared Golden',\n",
    " 'Harley Rouda',\n",
    " 'Tom Malinowski',\n",
    " 'Mikie Sherrill',\n",
    " 'Greg Stanton',\n",
    " 'Russ Fulcher',\n",
    " 'Kelly Armstrong',\n",
    " 'Ayanna Pressley',\n",
    " 'Katie Porter',\n",
    " 'Josh Harder',\n",
    " 'Kim Schrier',\n",
    " 'Ben Cline',\n",
    " 'Lance Gooden',\n",
    " 'Ilhan Omar',\n",
    " 'Jennifer Wexton',\n",
    " 'Anthony Brindisi',\n",
    " 'Mike Levin',\n",
    " 'Dean Phillips',\n",
    " 'Chrissy Houlahan',\n",
    " 'Anthony Gonzalez',\n",
    " 'Susie Lee',\n",
    " 'Jimmy Gomez',\n",
    " 'Michael Cloud',\n",
    " 'Joe Cunningham',\n",
    " 'Max Rose',\n",
    " 'Elissa Slotkin',\n",
    " 'Lucy McBath',\n",
    " 'Carol Miller',\n",
    " 'Joe Neguse',\n",
    " 'Debbie Lesko',\n",
    " 'Kendra Horn',\n",
    " 'Troy Balderson',\n",
    " 'John R. Curtis',\n",
    " 'James Baird',\n",
    " 'Chuy García',\n",
    " 'Donna E. Shalala',\n",
    " 'Daniel Meuser',\n",
    " 'Cynthia Axne',\n",
    " 'Mary Gay Scanlon',\n",
    " 'John W. Rose',\n",
    " 'Gilbert Ray Cisneros Jr.',\n",
    " 'W. Gregory Steube',\n",
    " 'TJ Cox',\n",
    " 'Jefferson Van Drew']"
   ]
  },
  {
   "cell_type": "code",
   "execution_count": 82,
   "metadata": {},
   "outputs": [],
   "source": [
    "# Create a DF from 538 house polling data\n",
    "# Must be updated as time goes on\n",
    "forecast_raw = pd.read_csv('https://projects.fivethirtyeight.com/2020-general-data/house_district_toplines_2020.csv',\n",
    "                      usecols = ['district','expression','forecastdate','name_D1','name_R1','winner_D1','winner_R1'])"
   ]
  },
  {
   "cell_type": "code",
   "execution_count": 88,
   "metadata": {},
   "outputs": [],
   "source": [
    "forecast = forecast_raw.copy()\n",
    "forecast = forecast[forecast['expression'] == '_deluxe']\n",
    "forecast['forecastdate'] = pd.to_datetime(forecast['forecastdate'], format = '%m/%d/%y')\n",
    "forecast = forecast[forecast['forecastdate'] == forecast['forecastdate'].max()]"
   ]
  },
  {
   "cell_type": "code",
   "execution_count": 89,
   "metadata": {},
   "outputs": [],
   "source": [
    "freshmen_df = pd.DataFrame(columns = ['Candidate', 'Win_Chance'])\n",
    "for i, row in forecast.iterrows():\n",
    "    if row['name_D1'] in names:\n",
    "        freshmen_df = freshmen_df.append({'Candidate' : row['name_D1'], 'Win_Chance' : row['winner_D1']}, ignore_index = True)\n",
    "    if row['name_R1'] in names:\n",
    "        freshmen_df = freshmen_df.append({'Candidate' : row['name_R1'], 'Win_Chance' : row['winner_R1']}, ignore_index = True)"
   ]
  },
  {
   "cell_type": "code",
   "execution_count": 91,
   "metadata": {},
   "outputs": [],
   "source": [
    "pb = PoiBin(freshmen_df['Win_Chance'])\n",
    "pmf = [pb.pmf(x) for x in range(96)]\n",
    "cdf = [pb.cdf(x) for x in range(96)]"
   ]
  },
  {
   "cell_type": "code",
   "execution_count": 98,
   "metadata": {},
   "outputs": [
    {
     "data": {
      "text/plain": [
       "<BarContainer object of 22 artists>"
      ]
     },
     "execution_count": 98,
     "metadata": {},
     "output_type": "execute_result"
    },
    {
     "data": {
      "image/png": "[encoded data removed]",
      "text/plain": [
       "<Figure size 1296x360 with 2 Axes>"
      ]
     },
     "metadata": {
      "needs_background": "light"
     },
     "output_type": "display_data"
    }
   ],
   "source": [
    "f, ax = plt.subplots(figsize=(18,5))\n",
    "plt.subplot(121).bar(range(74,96),pmf[74:96])\n",
    "plt.subplot(122).bar(range(74,96),cdf[74:96])"
   ]
  },
  {
   "cell_type": "code",
   "execution_count": 78,
   "metadata": {},
   "outputs": [],
   "source": [
    "buckets = {\"74 or fewer\":pb.cdf(74), \"75 to 77\" :pb.cdf(77)-pb.cdf(74),\n",
    "           \"78 to 80\":pb.cdf(80)-pb.cdf(77), \"81 to 83\":pb.cdf(83)-pb.cdf(80),\n",
    "          \"84 to 86\":pb.cdf(86)-pb.cdf(83), \"87 to 89\":pb.cdf(89)-pb.cdf(86),\n",
    "          \"90 to 92\":pb.cdf(92)-pb.cdf(89), \"93 to 95\":pb.cdf(95)-pb.cdf(92),\n",
    "          \"96 or more\":pb.pmf(96)}"
   ]
  },
  {
   "cell_type": "code",
   "execution_count": 99,
   "metadata": {},
   "outputs": [
    {
     "data": {
      "text/plain": [
       "<BarContainer object of 9 artists>"
      ]
     },
     "execution_count": 99,
     "metadata": {},
     "output_type": "execute_result"
    },
    {
     "data": {
      "image/png": "[encoded data removed]",
      "text/plain": [
       "<Figure size 1296x360 with 1 Axes>"
      ]
     },
     "metadata": {
      "needs_background": "light"
     },
     "output_type": "display_data"
    }
   ],
   "source": [
    "f, ax = plt.subplots(figsize=(18,5))\n",
    "plt.bar(buckets.keys(),buckets.values())"
   ]
  },
  {
   "cell_type": "code",
   "execution_count": 80,
   "metadata": {},
   "outputs": [
    {
     "name": "stdout",
     "output_type": "stream",
     "text": [
      "74 or fewer: 0.00\n",
      "75 to 77: 0.00\n",
      "78 to 80: 0.03\n",
      "81 to 83: 0.17\n",
      "84 to 86: 0.40\n",
      "87 to 89: 0.32\n",
      "90 to 92: 0.07\n",
      "93 to 95: 0.00\n",
      "96 or more: 0.00\n"
     ]
    }
   ],
   "source": [
    "for key, value in buckets.items():\n",
    "    print(key + \": %.2f\"% value)"
   ]
  },
  {
   "cell_type": "code",
   "execution_count": null,
   "metadata": {},
   "outputs": [],
   "source": []
  },
  {
   "cell_type": "code",
   "execution_count": null,
   "metadata": {},
   "outputs": [],
   "source": []
  }
 ],
 "metadata": {
  "kernelspec": {
   "display_name": "Python 3",
   "language": "python",
   "name": "python3"
  },
  "language_info": {
   "codemirror_mode": {
    "name": "ipython",
    "version": 3
   },
   "file_extension": ".py",
   "mimetype": "text/x-python",
   "name": "python",
   "nbconvert_exporter": "python",
   "pygments_lexer": "ipython3",
   "version": "3.7.6"
  }
 },
 "nbformat": 4,
 "nbformat_minor": 4
}
