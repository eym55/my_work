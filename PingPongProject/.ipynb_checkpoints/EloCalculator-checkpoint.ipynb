{
 "cells": [
  {
   "cell_type": "markdown",
   "metadata": {},
   "source": [
    "This is a program to calculate ELO ratings from our dorm ping pong matches. The CSV file stores the winner the loser and the score of the game. The model takes into account the margin of victory."
   ]
  },
  {
   "cell_type": "markdown",
   "metadata": {},
   "source": [
    "Importing all libraries. "
   ]
  },
  {
   "cell_type": "code",
   "execution_count": 3,
   "metadata": {},
   "outputs": [],
   "source": [
    "import pandas as pd\n",
    "import math\n",
    "pd.options.display.max_rows = 5"
   ]
  },
  {
   "cell_type": "markdown",
   "metadata": {},
   "source": [
    "This is the player class. It stores wins, losses and variables and will take in parameters from the CSV."
   ]
  },
  {
   "cell_type": "code",
   "execution_count": 1,
   "metadata": {},
   "outputs": [],
   "source": [
    "class Player:\n",
    "    def __init__(self, name, wins, losses, elo):\n",
    "        self.name = name\n",
    "        self.wins = wins\n",
    "        self.losses = losses\n",
    "        self.elo = elo\n"
   ]
  },
  {
   "cell_type": "markdown",
   "metadata": {},
   "source": [
    "The read function takes in the csv file and creates a list of player objects from it. It uses Pandas to create a dataframe and "
   ]
  },
  {
   "cell_type": "markdown",
   "metadata": {},
   "source": [
    "#Takes in a path to a CSV with player information\n",
    "#Returns a list of player objects\n",
    "Go through the list of games, for each game calculate the elo change based on the winner, loser, score and existing elo.\n",
    "\n",
    "Step 1. iterate through the list of non-calculated games.\n",
    "\n",
    "Step 2. for each game get the elo rating of the two players.\n",
    "\n",
    "Step 3. Use the elo ratings to generate expected results.\n",
    "\n",
    "Step 4. Calculate the actual results.\n",
    "\n",
    "Step 5. Using the expected results, actual results and existing elo ratings determine the change of each elo rating.\n",
    "\n",
    "Step 6. update the elo ratings in the player sheet and update the elo calculated to true. \n",
    "    "
   ]
  },
  {
   "cell_type": "code",
   "execution_count": 92,
   "metadata": {},
   "outputs": [
    {
     "data": {
      "text/html": [
       "<div>\n",
       "<style scoped>\n",
       "    .dataframe tbody tr th:only-of-type {\n",
       "        vertical-align: middle;\n",
       "    }\n",
       "\n",
       "    .dataframe tbody tr th {\n",
       "        vertical-align: top;\n",
       "    }\n",
       "\n",
       "    .dataframe thead th {\n",
       "        text-align: right;\n",
       "    }\n",
       "</style>\n",
       "<table border=\"1\" class=\"dataframe\">\n",
       "  <thead>\n",
       "    <tr style=\"text-align: right;\">\n",
       "      <th></th>\n",
       "      <th>Name</th>\n",
       "      <th>Wins</th>\n",
       "      <th>Losses</th>\n",
       "      <th>Elo</th>\n",
       "    </tr>\n",
       "  </thead>\n",
       "  <tbody>\n",
       "    <tr>\n",
       "      <th>0</th>\n",
       "      <td>Max</td>\n",
       "      <td>9</td>\n",
       "      <td>1</td>\n",
       "      <td>1540</td>\n",
       "    </tr>\n",
       "    <tr>\n",
       "      <th>1</th>\n",
       "      <td>Jack</td>\n",
       "      <td>1</td>\n",
       "      <td>4</td>\n",
       "      <td>1485</td>\n",
       "    </tr>\n",
       "    <tr>\n",
       "      <th>2</th>\n",
       "      <td>Eli</td>\n",
       "      <td>4</td>\n",
       "      <td>5</td>\n",
       "      <td>1495</td>\n",
       "    </tr>\n",
       "    <tr>\n",
       "      <th>3</th>\n",
       "      <td>Piper</td>\n",
       "      <td>0</td>\n",
       "      <td>1</td>\n",
       "      <td>1495</td>\n",
       "    </tr>\n",
       "    <tr>\n",
       "      <th>4</th>\n",
       "      <td>Ila</td>\n",
       "      <td>0</td>\n",
       "      <td>1</td>\n",
       "      <td>1495</td>\n",
       "    </tr>\n",
       "  </tbody>\n",
       "</table>\n",
       "</div>"
      ],
      "text/plain": [
       "    Name  Wins  Losses   Elo\n",
       "0    Max     9       1  1540\n",
       "1   Jack     1       4  1485\n",
       "2    Eli     4       5  1495\n",
       "3  Piper     0       1  1495\n",
       "4    Ila     0       1  1495"
      ]
     },
     "execution_count": 92,
     "metadata": {},
     "output_type": "execute_result"
    }
   ],
   "source": [
    "#Reading in the CSVs\n",
    "players = pd.read_csv('./PingPongProject/data/players.csv')\n",
    "games = pd.read_csv('./PingPongProject/data/games.csv')\n",
    "#Resetting elo to 1500 for all players so that new calcs can be done from the beginning\n",
    "players['Elo'] = 1500\n",
    "#Running the calulate elo function for all remaining rows with winner and loser name and scores stripped from the row.\n",
    "#Updates the elo updated column.\n",
    "games.apply(lambda row: calcElo(row['Winner'],row['Loser'],row['Winner Score'],row['Loser Score']), axis = 1)\n",
    "players.head()"
   ]
  },
  {
   "cell_type": "markdown",
   "metadata": {},
   "source": [
    "The calcElo function takes in a winner and loser as strings as well as the score difference. It first access the winner and loser's original Elo score from the players dataframe then calculates the change in their score and updates the player dataframe with the new values.\n",
    "Outcomes are the share of the points\n",
    "S constant = 50\n",
    "K constant = 50"
   ]
  },
  {
   "cell_type": "code",
   "execution_count": 93,
   "metadata": {},
   "outputs": [],
   "source": [
    "def calcElo(winner, loser, winnerScore, loserScore):\n",
    "    #Gets the original elo rankings from the players dataframe\n",
    "    winnerElo = players[(players['Name'] == winner)].iloc[0]['Elo']\n",
    "    loserElo = players[(players['Name'] == loser)].iloc[0]['Elo']\n",
    "    #Getting the actual outcome for each player\n",
    "    totalScore = winnerScore + loserScore\n",
    "    winnerShare = winnerScore / totalScore\n",
    "    loserShare = loserScore / totalScore\n",
    "    #Getting the expected share for each player\n",
    "    winnerExpected = 1 / (1 + 10 ** ((winnerElo - loserElo))/50)\n",
    "    loserExpected = 1 / (1 + 10 ** ((loserElo - winnerElo))/50)\n",
    "    #Updates the players dataframe with the new elo ratngs\n",
    "    players.set_index('Name', inplace = True)\n",
    "    players.at[winner,'Elo'] += 50 * (winnerShare - winnerExpected)\n",
    "    players.at[loser,'Elo'] += 50 * (loserShare - loserExpected)\n",
    "    players.reset_index(inplace = True)\n",
    "    return"
   ]
  },
  {
   "cell_type": "code",
   "execution_count": 74,
   "metadata": {},
   "outputs": [
    {
     "data": {
      "text/plain": [
       "1500"
      ]
     },
     "execution_count": 74,
     "metadata": {},
     "output_type": "execute_result"
    }
   ],
   "source": [
    "players.set_index('Name', inplace = True)\n",
    "players.at['Eli','Elo'] -= 5\n",
    "players.reset_index(inplace = True)\n",
    "players[(players['Name'] == 'Eli')].iloc[0]['Elo']"
   ]
  },
  {
   "cell_type": "code",
   "execution_count": 80,
   "metadata": {},
   "outputs": [],
   "source": [
    "players['Elo'] = 1500"
   ]
  },
  {
   "cell_type": "code",
   "execution_count": null,
   "metadata": {},
   "outputs": [],
   "source": []
  }
 ],
 "metadata": {
  "kernelspec": {
   "display_name": "Python 3",
   "language": "python",
   "name": "python3"
  },
  "language_info": {
   "codemirror_mode": {
    "name": "ipython",
    "version": 3
   },
   "file_extension": ".py",
   "mimetype": "text/x-python",
   "name": "python",
   "nbconvert_exporter": "python",
   "pygments_lexer": "ipython3",
   "version": "3.7.3"
  }
 },
 "nbformat": 4,
 "nbformat_minor": 2
}
