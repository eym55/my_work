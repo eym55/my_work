{
 "cells": [
  {
   "cell_type": "code",
   "execution_count": 1,
   "metadata": {},
   "outputs": [],
   "source": [
    "import pandas as pd\n",
    "import matplotlib.pyplot as plt\n",
    "import numpy as np\n",
    "import scipy.stats as stats\n",
    "import math\n",
    "\n",
    "\n",
    "from poibin import PoiBin\n",
    "from datetime import datetime\n",
    "import requests\n",
    "from bs4 import BeautifulSoup\n",
    "import json"
   ]
  },
  {
   "cell_type": "code",
   "execution_count": 2,
   "metadata": {},
   "outputs": [],
   "source": [
    "response = requests.get('https://www.predictit.org/api/marketdata/markets/6816')\n",
    "soup = BeautifulSoup(response.text)\n",
    "contracts = json.loads(soup.find('p').text)['contracts']\n",
    "prices = {x['name']:x['bestBuyYesCost'] for x in contracts}\n",
    "prices_no = {x['name']:x['bestBuyNoCost'] for x in contracts}"
   ]
  },
  {
   "cell_type": "code",
   "execution_count": 3,
   "metadata": {},
   "outputs": [],
   "source": [
    "with open('freshmen_names.txt','r') as f:\n",
    "    names = [line.rstrip(',\\n') for line in f]"
   ]
  },
  {
   "cell_type": "code",
   "execution_count": 4,
   "metadata": {},
   "outputs": [],
   "source": [
    "# Create a DF from 538 house polling data\n",
    "# Must be updated as time goes on\n",
    "forecast_raw = pd.read_csv('https://projects.fivethirtyeight.com/2020-general-data/house_district_toplines_2020.csv',\n",
    "                      usecols = ['district','expression','forecastdate','name_D1','name_R1','winner_D1','winner_R1'])"
   ]
  },
  {
   "cell_type": "code",
   "execution_count": 5,
   "metadata": {},
   "outputs": [],
   "source": [
    "forecast = forecast_raw.copy()\n",
    "forecast = forecast[forecast['expression'] == '_deluxe']\n",
    "forecast['forecastdate'] = pd.to_datetime(forecast['forecastdate'], format = '%m/%d/%y')\n",
    "forecast = forecast[forecast['forecastdate'] == forecast['forecastdate'].max()]"
   ]
  },
  {
   "cell_type": "code",
   "execution_count": 6,
   "metadata": {},
   "outputs": [],
   "source": [
    "freshmen_df = pd.DataFrame(columns = ['Candidate', 'Win_Chance','Party','District'])\n",
    "for i, row in forecast.iterrows():\n",
    "    if row['name_D1'] in names:\n",
    "        freshmen_df = freshmen_df.append({'Candidate' : row['name_D1'],\n",
    "                                          'Win_Chance' : row['winner_D1'],\n",
    "                                          'Party' : 'Democrat',\n",
    "                                         'District' : row['district']},\n",
    "                                         ignore_index = True)\n",
    "    if row['name_R1'] in names:\n",
    "        freshmen_df = freshmen_df.append({'Candidate' : row['name_R1'],\n",
    "                                          'Win_Chance' : row['winner_R1'],\n",
    "                                          'Party': 'Republican',\n",
    "                                         'District' : row['district']},\n",
    "                                         ignore_index= True)"
   ]
  },
  {
   "cell_type": "code",
   "execution_count": 7,
   "metadata": {},
   "outputs": [
    {
     "data": {
      "text/html": [
       "<div>\n",
       "<style scoped>\n",
       "    .dataframe tbody tr th:only-of-type {\n",
       "        vertical-align: middle;\n",
       "    }\n",
       "\n",
       "    .dataframe tbody tr th {\n",
       "        vertical-align: top;\n",
       "    }\n",
       "\n",
       "    .dataframe thead th {\n",
       "        text-align: right;\n",
       "    }\n",
       "</style>\n",
       "<table border=\"1\" class=\"dataframe\">\n",
       "  <thead>\n",
       "    <tr style=\"text-align: right;\">\n",
       "      <th></th>\n",
       "      <th>Candidate</th>\n",
       "      <th>Win_Chance</th>\n",
       "      <th>Party</th>\n",
       "      <th>District</th>\n",
       "    </tr>\n",
       "  </thead>\n",
       "  <tbody>\n",
       "    <tr>\n",
       "      <th>49</th>\n",
       "      <td>Jefferson Van Drew</td>\n",
       "      <td>0.498250</td>\n",
       "      <td>Republican</td>\n",
       "      <td>NJ-2</td>\n",
       "    </tr>\n",
       "    <tr>\n",
       "      <th>34</th>\n",
       "      <td>Kendra Horn</td>\n",
       "      <td>0.509125</td>\n",
       "      <td>Democrat</td>\n",
       "      <td>OK-5</td>\n",
       "    </tr>\n",
       "    <tr>\n",
       "      <th>45</th>\n",
       "      <td>Xochitl Torres Small</td>\n",
       "      <td>0.554750</td>\n",
       "      <td>Democrat</td>\n",
       "      <td>NM-2</td>\n",
       "    </tr>\n",
       "    <tr>\n",
       "      <th>7</th>\n",
       "      <td>Ben McAdams</td>\n",
       "      <td>0.561150</td>\n",
       "      <td>Democrat</td>\n",
       "      <td>UT-4</td>\n",
       "    </tr>\n",
       "    <tr>\n",
       "      <th>91</th>\n",
       "      <td>TJ Cox</td>\n",
       "      <td>0.582100</td>\n",
       "      <td>Democrat</td>\n",
       "      <td>CA-21</td>\n",
       "    </tr>\n",
       "    <tr>\n",
       "      <th>42</th>\n",
       "      <td>Max Rose</td>\n",
       "      <td>0.584925</td>\n",
       "      <td>Democrat</td>\n",
       "      <td>NY-11</td>\n",
       "    </tr>\n",
       "    <tr>\n",
       "      <th>58</th>\n",
       "      <td>Jim Hagedorn</td>\n",
       "      <td>0.602775</td>\n",
       "      <td>Republican</td>\n",
       "      <td>MN-1</td>\n",
       "    </tr>\n",
       "    <tr>\n",
       "      <th>25</th>\n",
       "      <td>Joe Cunningham</td>\n",
       "      <td>0.642575</td>\n",
       "      <td>Democrat</td>\n",
       "      <td>SC-1</td>\n",
       "    </tr>\n",
       "    <tr>\n",
       "      <th>87</th>\n",
       "      <td>Harley Rouda</td>\n",
       "      <td>0.679800</td>\n",
       "      <td>Democrat</td>\n",
       "      <td>CA-48</td>\n",
       "    </tr>\n",
       "    <tr>\n",
       "      <th>17</th>\n",
       "      <td>Chip Roy</td>\n",
       "      <td>0.708975</td>\n",
       "      <td>Republican</td>\n",
       "      <td>TX-21</td>\n",
       "    </tr>\n",
       "    <tr>\n",
       "      <th>43</th>\n",
       "      <td>Steven Horsford</td>\n",
       "      <td>0.720550</td>\n",
       "      <td>Democrat</td>\n",
       "      <td>NV-4</td>\n",
       "    </tr>\n",
       "    <tr>\n",
       "      <th>39</th>\n",
       "      <td>Anthony Brindisi</td>\n",
       "      <td>0.730650</td>\n",
       "      <td>Democrat</td>\n",
       "      <td>NY-22</td>\n",
       "    </tr>\n",
       "    <tr>\n",
       "      <th>89</th>\n",
       "      <td>Gilbert Ray Cisneros Jr.</td>\n",
       "      <td>0.739950</td>\n",
       "      <td>Democrat</td>\n",
       "      <td>CA-39</td>\n",
       "    </tr>\n",
       "    <tr>\n",
       "      <th>78</th>\n",
       "      <td>Lucy McBath</td>\n",
       "      <td>0.740400</td>\n",
       "      <td>Democrat</td>\n",
       "      <td>GA-6</td>\n",
       "    </tr>\n",
       "    <tr>\n",
       "      <th>9</th>\n",
       "      <td>Lizzie Fletcher</td>\n",
       "      <td>0.747750</td>\n",
       "      <td>Democrat</td>\n",
       "      <td>TX-7</td>\n",
       "    </tr>\n",
       "    <tr>\n",
       "      <th>47</th>\n",
       "      <td>Tom Malinowski</td>\n",
       "      <td>0.758375</td>\n",
       "      <td>Democrat</td>\n",
       "      <td>NJ-7</td>\n",
       "    </tr>\n",
       "    <tr>\n",
       "      <th>3</th>\n",
       "      <td>Abigail Spanberger</td>\n",
       "      <td>0.786075</td>\n",
       "      <td>Democrat</td>\n",
       "      <td>VA-7</td>\n",
       "    </tr>\n",
       "    <tr>\n",
       "      <th>80</th>\n",
       "      <td>Donna E. Shalala</td>\n",
       "      <td>0.814650</td>\n",
       "      <td>Democrat</td>\n",
       "      <td>FL-27</td>\n",
       "    </tr>\n",
       "    <tr>\n",
       "      <th>81</th>\n",
       "      <td>Debbie Mucarsel-Powell</td>\n",
       "      <td>0.818675</td>\n",
       "      <td>Democrat</td>\n",
       "      <td>FL-26</td>\n",
       "    </tr>\n",
       "    <tr>\n",
       "      <th>44</th>\n",
       "      <td>Susie Lee</td>\n",
       "      <td>0.834575</td>\n",
       "      <td>Democrat</td>\n",
       "      <td>NV-3</td>\n",
       "    </tr>\n",
       "    <tr>\n",
       "      <th>51</th>\n",
       "      <td>Chris Pappas</td>\n",
       "      <td>0.835675</td>\n",
       "      <td>Democrat</td>\n",
       "      <td>NH-1</td>\n",
       "    </tr>\n",
       "    <tr>\n",
       "      <th>12</th>\n",
       "      <td>Colin Allred</td>\n",
       "      <td>0.839900</td>\n",
       "      <td>Democrat</td>\n",
       "      <td>TX-32</td>\n",
       "    </tr>\n",
       "  </tbody>\n",
       "</table>\n",
       "</div>"
      ],
      "text/plain": [
       "                   Candidate  Win_Chance       Party District\n",
       "49        Jefferson Van Drew    0.498250  Republican     NJ-2\n",
       "34               Kendra Horn    0.509125    Democrat     OK-5\n",
       "45      Xochitl Torres Small    0.554750    Democrat     NM-2\n",
       "7                Ben McAdams    0.561150    Democrat     UT-4\n",
       "91                    TJ Cox    0.582100    Democrat    CA-21\n",
       "42                  Max Rose    0.584925    Democrat    NY-11\n",
       "58              Jim Hagedorn    0.602775  Republican     MN-1\n",
       "25            Joe Cunningham    0.642575    Democrat     SC-1\n",
       "87              Harley Rouda    0.679800    Democrat    CA-48\n",
       "17                  Chip Roy    0.708975  Republican    TX-21\n",
       "43           Steven Horsford    0.720550    Democrat     NV-4\n",
       "39          Anthony Brindisi    0.730650    Democrat    NY-22\n",
       "89  Gilbert Ray Cisneros Jr.    0.739950    Democrat    CA-39\n",
       "78               Lucy McBath    0.740400    Democrat     GA-6\n",
       "9            Lizzie Fletcher    0.747750    Democrat     TX-7\n",
       "47            Tom Malinowski    0.758375    Democrat     NJ-7\n",
       "3         Abigail Spanberger    0.786075    Democrat     VA-7\n",
       "80          Donna E. Shalala    0.814650    Democrat    FL-27\n",
       "81    Debbie Mucarsel-Powell    0.818675    Democrat    FL-26\n",
       "44                 Susie Lee    0.834575    Democrat     NV-3\n",
       "51              Chris Pappas    0.835675    Democrat     NH-1\n",
       "12              Colin Allred    0.839900    Democrat    TX-32"
      ]
     },
     "execution_count": 7,
     "metadata": {},
     "output_type": "execute_result"
    }
   ],
   "source": [
    "freshmen_df.sort_values('Win_Chance', ascending = True)[:22]"
   ]
  },
  {
   "cell_type": "code",
   "execution_count": 8,
   "metadata": {},
   "outputs": [
    {
     "data": {
      "text/plain": [
       "<BarContainer object of 22 artists>"
      ]
     },
     "execution_count": 8,
     "metadata": {},
     "output_type": "execute_result"
    },
    {
     "data": {
      "image/png": "[encoded data removed]",
      "text/plain": [
       "<Figure size 1296x360 with 2 Axes>"
      ]
     },
     "metadata": {
      "needs_background": "light"
     },
     "output_type": "display_data"
    }
   ],
   "source": [
    "tester = freshmen_df.sort_values('Win_Chance', ascending = True)[:22]\n",
    "test_pb = PoiBin(tester['Win_Chance'])\n",
    "test_pmf = [test_pb.pmf(x) for x in range(22)]\n",
    "test_cdf = [test_pb.cdf(x) for x in range(22)]\n",
    "f, ax = plt.subplots(figsize=(18,5))\n",
    "plt.subplot(121).bar(range(74,96),test_pmf[0:22])\n",
    "plt.subplot(122).bar(range(74,96),test_cdf[0:22])"
   ]
  },
  {
   "cell_type": "code",
   "execution_count": 9,
   "metadata": {},
   "outputs": [
    {
     "ename": "TypeError",
     "evalue": "unsupported operand type(s) for +: 'int' and 'NoneType'",
     "output_type": "error",
     "traceback": [
      "\u001b[0;31m---------------------------------------------------------------------------\u001b[0m",
      "\u001b[0;31mTypeError\u001b[0m                                 Traceback (most recent call last)",
      "\u001b[0;32m<ipython-input-9-5f9d52875cfd>\u001b[0m in \u001b[0;36m<module>\u001b[0;34m\u001b[0m\n\u001b[1;32m     11\u001b[0m               fontsize=12)\n\u001b[1;32m     12\u001b[0m \u001b[0mplt\u001b[0m\u001b[0;34m.\u001b[0m\u001b[0mbar\u001b[0m\u001b[0;34m(\u001b[0m\u001b[0mtest_probability\u001b[0m\u001b[0;34m.\u001b[0m\u001b[0mkeys\u001b[0m\u001b[0;34m(\u001b[0m\u001b[0;34m)\u001b[0m\u001b[0;34m,\u001b[0m\u001b[0mtest_probability\u001b[0m\u001b[0;34m.\u001b[0m\u001b[0mvalues\u001b[0m\u001b[0;34m(\u001b[0m\u001b[0;34m)\u001b[0m\u001b[0;34m,\u001b[0m \u001b[0mcolor\u001b[0m \u001b[0;34m=\u001b[0m \u001b[0;34m'green'\u001b[0m\u001b[0;34m)\u001b[0m\u001b[0;34m\u001b[0m\u001b[0;34m\u001b[0m\u001b[0m\n\u001b[0;32m---> 13\u001b[0;31m \u001b[0mplt\u001b[0m\u001b[0;34m.\u001b[0m\u001b[0mbar\u001b[0m\u001b[0;34m(\u001b[0m\u001b[0mprices\u001b[0m\u001b[0;34m.\u001b[0m\u001b[0mkeys\u001b[0m\u001b[0;34m(\u001b[0m\u001b[0;34m)\u001b[0m\u001b[0;34m,\u001b[0m\u001b[0mprices\u001b[0m\u001b[0;34m.\u001b[0m\u001b[0mvalues\u001b[0m\u001b[0;34m(\u001b[0m\u001b[0;34m)\u001b[0m\u001b[0;34m,\u001b[0m\u001b[0mcolor\u001b[0m \u001b[0;34m=\u001b[0m \u001b[0;34m'red'\u001b[0m\u001b[0;34m)\u001b[0m\u001b[0;34m\u001b[0m\u001b[0;34m\u001b[0m\u001b[0m\n\u001b[0m",
      "\u001b[0;32m~/opt/anaconda3/lib/python3.7/site-packages/matplotlib/pyplot.py\u001b[0m in \u001b[0;36mbar\u001b[0;34m(x, height, width, bottom, align, data, **kwargs)\u001b[0m\n\u001b[1;32m   2439\u001b[0m     return gca().bar(\n\u001b[1;32m   2440\u001b[0m         \u001b[0mx\u001b[0m\u001b[0;34m,\u001b[0m \u001b[0mheight\u001b[0m\u001b[0;34m,\u001b[0m \u001b[0mwidth\u001b[0m\u001b[0;34m=\u001b[0m\u001b[0mwidth\u001b[0m\u001b[0;34m,\u001b[0m \u001b[0mbottom\u001b[0m\u001b[0;34m=\u001b[0m\u001b[0mbottom\u001b[0m\u001b[0;34m,\u001b[0m \u001b[0malign\u001b[0m\u001b[0;34m=\u001b[0m\u001b[0malign\u001b[0m\u001b[0;34m,\u001b[0m\u001b[0;34m\u001b[0m\u001b[0;34m\u001b[0m\u001b[0m\n\u001b[0;32m-> 2441\u001b[0;31m         **({\"data\": data} if data is not None else {}), **kwargs)\n\u001b[0m\u001b[1;32m   2442\u001b[0m \u001b[0;34m\u001b[0m\u001b[0m\n\u001b[1;32m   2443\u001b[0m \u001b[0;34m\u001b[0m\u001b[0m\n",
      "\u001b[0;32m~/opt/anaconda3/lib/python3.7/site-packages/matplotlib/__init__.py\u001b[0m in \u001b[0;36minner\u001b[0;34m(ax, data, *args, **kwargs)\u001b[0m\n\u001b[1;32m   1597\u001b[0m     \u001b[0;32mdef\u001b[0m \u001b[0minner\u001b[0m\u001b[0;34m(\u001b[0m\u001b[0max\u001b[0m\u001b[0;34m,\u001b[0m \u001b[0;34m*\u001b[0m\u001b[0margs\u001b[0m\u001b[0;34m,\u001b[0m \u001b[0mdata\u001b[0m\u001b[0;34m=\u001b[0m\u001b[0;32mNone\u001b[0m\u001b[0;34m,\u001b[0m \u001b[0;34m**\u001b[0m\u001b[0mkwargs\u001b[0m\u001b[0;34m)\u001b[0m\u001b[0;34m:\u001b[0m\u001b[0;34m\u001b[0m\u001b[0;34m\u001b[0m\u001b[0m\n\u001b[1;32m   1598\u001b[0m         \u001b[0;32mif\u001b[0m \u001b[0mdata\u001b[0m \u001b[0;32mis\u001b[0m \u001b[0;32mNone\u001b[0m\u001b[0;34m:\u001b[0m\u001b[0;34m\u001b[0m\u001b[0;34m\u001b[0m\u001b[0m\n\u001b[0;32m-> 1599\u001b[0;31m             \u001b[0;32mreturn\u001b[0m \u001b[0mfunc\u001b[0m\u001b[0;34m(\u001b[0m\u001b[0max\u001b[0m\u001b[0;34m,\u001b[0m \u001b[0;34m*\u001b[0m\u001b[0mmap\u001b[0m\u001b[0;34m(\u001b[0m\u001b[0msanitize_sequence\u001b[0m\u001b[0;34m,\u001b[0m \u001b[0margs\u001b[0m\u001b[0;34m)\u001b[0m\u001b[0;34m,\u001b[0m \u001b[0;34m**\u001b[0m\u001b[0mkwargs\u001b[0m\u001b[0;34m)\u001b[0m\u001b[0;34m\u001b[0m\u001b[0;34m\u001b[0m\u001b[0m\n\u001b[0m\u001b[1;32m   1600\u001b[0m \u001b[0;34m\u001b[0m\u001b[0m\n\u001b[1;32m   1601\u001b[0m         \u001b[0mbound\u001b[0m \u001b[0;34m=\u001b[0m \u001b[0mnew_sig\u001b[0m\u001b[0;34m.\u001b[0m\u001b[0mbind\u001b[0m\u001b[0;34m(\u001b[0m\u001b[0max\u001b[0m\u001b[0;34m,\u001b[0m \u001b[0;34m*\u001b[0m\u001b[0margs\u001b[0m\u001b[0;34m,\u001b[0m \u001b[0;34m**\u001b[0m\u001b[0mkwargs\u001b[0m\u001b[0;34m)\u001b[0m\u001b[0;34m\u001b[0m\u001b[0;34m\u001b[0m\u001b[0m\n",
      "\u001b[0;32m~/opt/anaconda3/lib/python3.7/site-packages/matplotlib/axes/_axes.py\u001b[0m in \u001b[0;36mbar\u001b[0;34m(self, x, height, width, bottom, align, **kwargs)\u001b[0m\n\u001b[1;32m   2427\u001b[0m                 \u001b[0medgecolor\u001b[0m\u001b[0;34m=\u001b[0m\u001b[0me\u001b[0m\u001b[0;34m,\u001b[0m\u001b[0;34m\u001b[0m\u001b[0;34m\u001b[0m\u001b[0m\n\u001b[1;32m   2428\u001b[0m                 \u001b[0mlinewidth\u001b[0m\u001b[0;34m=\u001b[0m\u001b[0mlw\u001b[0m\u001b[0;34m,\u001b[0m\u001b[0;34m\u001b[0m\u001b[0;34m\u001b[0m\u001b[0m\n\u001b[0;32m-> 2429\u001b[0;31m                 \u001b[0mlabel\u001b[0m\u001b[0;34m=\u001b[0m\u001b[0;34m'_nolegend_'\u001b[0m\u001b[0;34m,\u001b[0m\u001b[0;34m\u001b[0m\u001b[0;34m\u001b[0m\u001b[0m\n\u001b[0m\u001b[1;32m   2430\u001b[0m                 )\n\u001b[1;32m   2431\u001b[0m             \u001b[0mr\u001b[0m\u001b[0;34m.\u001b[0m\u001b[0mupdate\u001b[0m\u001b[0;34m(\u001b[0m\u001b[0mkwargs\u001b[0m\u001b[0;34m)\u001b[0m\u001b[0;34m\u001b[0m\u001b[0;34m\u001b[0m\u001b[0m\n",
      "\u001b[0;32m~/opt/anaconda3/lib/python3.7/site-packages/matplotlib/patches.py\u001b[0m in \u001b[0;36m__init__\u001b[0;34m(self, xy, width, height, angle, **kwargs)\u001b[0m\n\u001b[1;32m    714\u001b[0m \u001b[0;34m\u001b[0m\u001b[0m\n\u001b[1;32m    715\u001b[0m         \u001b[0mself\u001b[0m\u001b[0;34m.\u001b[0m\u001b[0m_x1\u001b[0m \u001b[0;34m=\u001b[0m \u001b[0mself\u001b[0m\u001b[0;34m.\u001b[0m\u001b[0m_x0\u001b[0m \u001b[0;34m+\u001b[0m \u001b[0mself\u001b[0m\u001b[0;34m.\u001b[0m\u001b[0m_width\u001b[0m\u001b[0;34m\u001b[0m\u001b[0;34m\u001b[0m\u001b[0m\n\u001b[0;32m--> 716\u001b[0;31m         \u001b[0mself\u001b[0m\u001b[0;34m.\u001b[0m\u001b[0m_y1\u001b[0m \u001b[0;34m=\u001b[0m \u001b[0mself\u001b[0m\u001b[0;34m.\u001b[0m\u001b[0m_y0\u001b[0m \u001b[0;34m+\u001b[0m \u001b[0mself\u001b[0m\u001b[0;34m.\u001b[0m\u001b[0m_height\u001b[0m\u001b[0;34m\u001b[0m\u001b[0;34m\u001b[0m\u001b[0m\n\u001b[0m\u001b[1;32m    717\u001b[0m \u001b[0;34m\u001b[0m\u001b[0m\n\u001b[1;32m    718\u001b[0m         \u001b[0mself\u001b[0m\u001b[0;34m.\u001b[0m\u001b[0mangle\u001b[0m \u001b[0;34m=\u001b[0m \u001b[0mfloat\u001b[0m\u001b[0;34m(\u001b[0m\u001b[0mangle\u001b[0m\u001b[0;34m)\u001b[0m\u001b[0;34m\u001b[0m\u001b[0;34m\u001b[0m\u001b[0m\n",
      "\u001b[0;31mTypeError\u001b[0m: unsupported operand type(s) for +: 'int' and 'NoneType'"
     ]
    },
    {
     "data": {
      "image/png": "[encoded data removed]",
      "text/plain": [
       "<Figure size 1296x360 with 1 Axes>"
      ]
     },
     "metadata": {
      "needs_background": "light"
     },
     "output_type": "display_data"
    }
   ],
   "source": [
    "test_probability = {\"74 or fewer\":test_pb.cdf(0), \"75 to 77\" :test_pb.cdf(3)-test_pb.cdf(0),\n",
    "           \"78 to 80\":test_pb.cdf(6)-test_pb.cdf(3), \"81 to 83\":test_pb.cdf(9)-test_pb.cdf(6),\n",
    "          \"84 to 86\":test_pb.cdf(12)-test_pb.cdf(9), \"87 to 89\":test_pb.cdf(15)-test_pb.cdf(12),\n",
    "          \"90 to 92\":test_pb.cdf(18)-test_pb.cdf(15), \"93 to 95\":test_pb.cdf(21)-test_pb.cdf(18),\n",
    "          \"96 or more\":test_pb.pmf(22)}\n",
    "f, ax = plt.subplots(figsize=(18,5))\n",
    "for i, v in enumerate(test_probability.values()):\n",
    "    ax.text(i-.11, \n",
    "              v, \n",
    "              round(v,2), \n",
    "              fontsize=12)\n",
    "plt.bar(test_probability.keys(),test_probability.values(), color = 'green')\n",
    "plt.bar(prices.keys(),prices.values(),color = 'red')"
   ]
  },
  {
   "cell_type": "code",
   "execution_count": null,
   "metadata": {},
   "outputs": [],
   "source": [
    "pb = PoiBin(freshmen_df['Win_Chance'])\n",
    "pmf = [pb.pmf(x) for x in range(96)]\n",
    "cdf = [pb.cdf(x) for x in range(96)]"
   ]
  },
  {
   "cell_type": "code",
   "execution_count": null,
   "metadata": {},
   "outputs": [],
   "source": [
    "f, ax = plt.subplots(figsize=(18,5))\n",
    "plt.subplot(121).bar(range(74,96),pmf[74:96])\n",
    "plt.subplot(122).bar(range(74,96),cdf[74:96])"
   ]
  },
  {
   "cell_type": "code",
   "execution_count": null,
   "metadata": {},
   "outputs": [],
   "source": [
    "probability = {\"74 or fewer\":pb.cdf(74), \"75 to 77\" :pb.cdf(77)-pb.cdf(74),\n",
    "           \"78 to 80\":pb.cdf(80)-pb.cdf(77), \"81 to 83\":pb.cdf(83)-pb.cdf(80),\n",
    "          \"84 to 86\":pb.cdf(86)-pb.cdf(83), \"87 to 89\":pb.cdf(89)-pb.cdf(86),\n",
    "          \"90 to 92\":pb.cdf(92)-pb.cdf(89), \"93 to 95\":pb.cdf(95)-pb.cdf(92),\n",
    "          \"96 or more\":pb.pmf(96)}"
   ]
  },
  {
   "cell_type": "code",
   "execution_count": null,
   "metadata": {},
   "outputs": [],
   "source": []
  },
  {
   "cell_type": "code",
   "execution_count": null,
   "metadata": {},
   "outputs": [],
   "source": [
    "f, ax = plt.subplots(figsize=(18,5))\n",
    "for i, v in enumerate(probability.values()):\n",
    "    ax.text(i-.11, \n",
    "              v, \n",
    "              round(v,2), \n",
    "              fontsize=12)\n",
    "plt.bar(probability.keys(),probability.values(), color = 'green')\n",
    "plt.bar(prices.keys(),prices.values(),color = 'red')\n"
   ]
  },
  {
   "cell_type": "code",
   "execution_count": null,
   "metadata": {},
   "outputs": [],
   "source": [
    "returns = {key:((1-prices[key]) * .9 + prices[key])/prices[key] for key in prices.keys()}\n",
    "returns_no = {key:((1-prices_no[key]) * .9 + prices_no[key])/prices_no[key] for key in prices_no.keys()}\n",
    "pop = pd.DataFrame([[key,prices[key],prices_no[key],round(probability[key],2),round(test_probability[key],2),round(returns[key],2),round(returns_no[key],2)] for key in probability.keys()],columns = ['Bucket','price_yes','price_no','prob','test_prob','return_yes','return_no'])\n",
    "pop = pop.set_index('Bucket')\n",
    "pop"
   ]
  },
  {
   "cell_type": "code",
   "execution_count": null,
   "metadata": {},
   "outputs": [],
   "source": [
    "certainty = probability['84 to 86'] + probability['87 to 89'] + probability['90 to 92']\n",
    "test_certainty = test_probability['84 to 86'] + test_probability['87 to 89'] + test_probability['90 to 92']\n",
    "print(round(certainty,2))\n",
    "print(round(test_certainty,2))"
   ]
  },
  {
   "cell_type": "code",
   "execution_count": null,
   "metadata": {},
   "outputs": [],
   "source": []
  },
  {
   "cell_type": "code",
   "execution_count": null,
   "metadata": {},
   "outputs": [],
   "source": []
  },
  {
   "cell_type": "code",
   "execution_count": null,
   "metadata": {},
   "outputs": [],
   "source": []
  },
  {
   "cell_type": "code",
   "execution_count": null,
   "metadata": {},
   "outputs": [],
   "source": []
  },
  {
   "cell_type": "code",
   "execution_count": null,
   "metadata": {},
   "outputs": [],
   "source": []
  },
  {
   "cell_type": "code",
   "execution_count": null,
   "metadata": {},
   "outputs": [],
   "source": []
  }
 ],
 "metadata": {
  "kernelspec": {
   "display_name": "Python 3",
   "language": "python",
   "name": "python3"
  },
  "language_info": {
   "codemirror_mode": {
    "name": "ipython",
    "version": 3
   },
   "file_extension": ".py",
   "mimetype": "text/x-python",
   "name": "python",
   "nbconvert_exporter": "python",
   "pygments_lexer": "ipython3",
   "version": "3.7.6"
  }
 },
 "nbformat": 4,
 "nbformat_minor": 4
}
